{
 "cells": [
  {
   "cell_type": "code",
   "execution_count": 1,
   "id": "f35e98b1",
   "metadata": {},
   "outputs": [],
   "source": [
    "import numpy as np"
   ]
  },
  {
   "cell_type": "code",
   "execution_count": 3,
   "id": "5027e107",
   "metadata": {},
   "outputs": [],
   "source": [
    "Sample = [42 ,61 ,39, 70, 8, 30, 52 ,28, 95, 86, 35, 77, 80, 86, 1, 84, 90, 57, 45, 6, 1, 56, 60 ,83 ,24, 63, 93, 59, 92, 53]"
   ]
  },
  {
   "cell_type": "code",
   "execution_count": 5,
   "id": "9c970d25",
   "metadata": {},
   "outputs": [
    {
     "data": {
      "text/plain": [
       "28.49491182649983"
      ]
     },
     "execution_count": 5,
     "metadata": {},
     "output_type": "execute_result"
    }
   ],
   "source": [
    "np.std(Sample)"
   ]
  },
  {
   "cell_type": "code",
   "execution_count": 6,
   "id": "c20eac12",
   "metadata": {},
   "outputs": [
    {
     "data": {
      "text/plain": [
       "list"
      ]
     },
     "execution_count": 6,
     "metadata": {},
     "output_type": "execute_result"
    }
   ],
   "source": [
    "type(Sample)"
   ]
  },
  {
   "cell_type": "code",
   "execution_count": 8,
   "id": "052a9ebd",
   "metadata": {},
   "outputs": [
    {
     "data": {
      "text/plain": [
       "811.9599999999999"
      ]
     },
     "execution_count": 8,
     "metadata": {},
     "output_type": "execute_result"
    }
   ],
   "source": [
    "np.var(Sample)"
   ]
  },
  {
   "cell_type": "code",
   "execution_count": 10,
   "id": "a8734ed1",
   "metadata": {},
   "outputs": [],
   "source": [
    "array = np.array([17, 27, 80, 39, 72, 95, 52, 85, 8, 64, 36, 15, 62, 76, 66, 67, 59, 92])"
   ]
  },
  {
   "cell_type": "code",
   "execution_count": 13,
   "id": "1a60eca3",
   "metadata": {},
   "outputs": [
    {
     "data": {
      "text/plain": [
       "87"
      ]
     },
     "execution_count": 13,
     "metadata": {},
     "output_type": "execute_result"
    }
   ],
   "source": [
    "max(array)-min(array)"
   ]
  },
  {
   "cell_type": "code",
   "execution_count": 14,
   "id": "92929017",
   "metadata": {},
   "outputs": [
    {
     "data": {
      "text/plain": [
       "8"
      ]
     },
     "execution_count": 14,
     "metadata": {},
     "output_type": "execute_result"
    }
   ],
   "source": [
    "min(array)"
   ]
  },
  {
   "cell_type": "code",
   "execution_count": 18,
   "id": "ed7b09bf",
   "metadata": {},
   "outputs": [],
   "source": [
    "s=np.sort(array)"
   ]
  },
  {
   "cell_type": "code",
   "execution_count": 19,
   "id": "b1f4db4c",
   "metadata": {},
   "outputs": [],
   "source": [
    "q1=np.percentile(s,25)"
   ]
  },
  {
   "cell_type": "code",
   "execution_count": 20,
   "id": "55c11f98",
   "metadata": {},
   "outputs": [],
   "source": [
    "q3=np.percentile(s,75)"
   ]
  },
  {
   "cell_type": "code",
   "execution_count": 21,
   "id": "d1a08b96",
   "metadata": {},
   "outputs": [
    {
     "data": {
      "text/plain": [
       "38.25"
      ]
     },
     "execution_count": 21,
     "metadata": {},
     "output_type": "execute_result"
    }
   ],
   "source": [
    "q3-q1"
   ]
  },
  {
   "cell_type": "code",
   "execution_count": 22,
   "id": "4904dcd4",
   "metadata": {},
   "outputs": [
    {
     "name": "stderr",
     "output_type": "stream",
     "text": [
      "C:\\Users\\raghu\\anaconda3\\lib\\site-packages\\scipy\\__init__.py:155: UserWarning: A NumPy version >=1.18.5 and <1.25.0 is required for this version of SciPy (detected version 1.25.0\n",
      "  warnings.warn(f\"A NumPy version >={np_minversion} and <{np_maxversion}\"\n"
     ]
    },
    {
     "name": "stdout",
     "output_type": "stream",
     "text": [
      "95% Confidence Interval: (50.40, 69.70)\n"
     ]
    }
   ],
   "source": [
    "import numpy as np\n",
    "import scipy.stats as stats\n",
    "\n",
    "# Given sample\n",
    "sample = np.array([78, 65, 20, 69, 36, 81, 85, 71, 44, 71, 47, 37, 89, 25, 73, 55, 80, 52, 46, 77])\n",
    "\n",
    "# Calculate sample mean and standard deviation\n",
    "mean = np.mean(sample)\n",
    "std_dev = np.std(sample, ddof=1)  # Using ddof=1 for sample standard deviation\n",
    "n = len(sample)  # Sample size\n",
    "\n",
    "# Determine the t-score for 95% confidence interval\n",
    "confidence = 0.95\n",
    "alpha = 1 - confidence\n",
    "t_score = stats.t.ppf(1 - alpha / 2, df=n - 1)\n",
    "\n",
    "# Calculate the margin of error\n",
    "margin_of_error = t_score * (std_dev / np.sqrt(n))\n",
    "\n",
    "# Calculate the confidence interval\n",
    "ci_lower = mean - margin_of_error\n",
    "ci_upper = mean + margin_of_error\n",
    "\n",
    "print(f\"95% Confidence Interval: ({ci_lower:.2f}, {ci_upper:.2f})\")\n"
   ]
  },
  {
   "cell_type": "code",
   "execution_count": 23,
   "id": "9d3169e6",
   "metadata": {},
   "outputs": [
    {
     "name": "stdout",
     "output_type": "stream",
     "text": [
      "Z-score: 1.46\n",
      "P-value: 0.1440\n"
     ]
    }
   ],
   "source": [
    "import numpy as np\n",
    "import scipy.stats as stats\n",
    "\n",
    "# Given data\n",
    "sample = np.array([88, 92, 84, 64, 96, 97, 67, 97, 96, 99, 115, 119, 119, 129, 130, 142, 102, 123, 134, 105])\n",
    "population_mean = 100\n",
    "population_std_dev = 15\n",
    "\n",
    "# Calculate the sample mean\n",
    "sample_mean = np.mean(sample)\n",
    "\n",
    "# Calculate the sample size\n",
    "n = len(sample)\n",
    "\n",
    "# Calculate the z-score\n",
    "z_score = (sample_mean - population_mean) / (population_std_dev / np.sqrt(n))\n",
    "\n",
    "# Calculate the p-value for a two-tailed test\n",
    "p_value = 2 * (1 - stats.norm.cdf(np.abs(z_score)))\n",
    "\n",
    "print(f\"Z-score: {z_score:.2f}\")\n",
    "print(f\"P-value: {p_value:.4f}\")\n"
   ]
  },
  {
   "cell_type": "code",
   "execution_count": 24,
   "id": "4101922a",
   "metadata": {},
   "outputs": [
    {
     "data": {
      "text/plain": [
       "104.9"
      ]
     },
     "execution_count": 24,
     "metadata": {},
     "output_type": "execute_result"
    }
   ],
   "source": [
    "sample_mean"
   ]
  },
  {
   "cell_type": "code",
   "execution_count": null,
   "id": "7a43d1cd",
   "metadata": {},
   "outputs": [],
   "source": []
  }
 ],
 "metadata": {
  "kernelspec": {
   "display_name": "Python 3 (ipykernel)",
   "language": "python",
   "name": "python3"
  },
  "language_info": {
   "codemirror_mode": {
    "name": "ipython",
    "version": 3
   },
   "file_extension": ".py",
   "mimetype": "text/x-python",
   "name": "python",
   "nbconvert_exporter": "python",
   "pygments_lexer": "ipython3",
   "version": "3.9.13"
  }
 },
 "nbformat": 4,
 "nbformat_minor": 5
}
